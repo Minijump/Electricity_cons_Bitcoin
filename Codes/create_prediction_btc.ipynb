{
 "cells": [
  {
   "cell_type": "code",
   "execution_count": 41,
   "metadata": {},
   "outputs": [],
   "source": [
    "import pandas as pd\n",
    "import matplotlib.pyplot as plt\n",
    "from scipy.optimize import curve_fit\n",
    "import numpy as np\n",
    "from datetime import datetime"
   ]
  },
  {
   "cell_type": "code",
   "execution_count": 42,
   "metadata": {},
   "outputs": [],
   "source": [
    "#from btc_values.csv, create a dataframe containing only the dates and the Price ( begins in 2015)\n",
    "df = pd.read_csv('btc_values.csv')\n",
    "df = df.tail(1009)\n",
    "df['Date'] = pd.to_datetime(df['Date'])\n",
    "df = df[['Date', 'Price']]"
   ]
  },
  {
   "attachments": {},
   "cell_type": "markdown",
   "metadata": {},
   "source": [
    "# prediction of the price of bitcoin"
   ]
  },
  {
   "cell_type": "code",
   "execution_count": 43,
   "metadata": {},
   "outputs": [],
   "source": [
    "df['prix_log'] = np.log(df['Price'])"
   ]
  },
  {
   "cell_type": "code",
   "execution_count": 44,
   "metadata": {},
   "outputs": [],
   "source": [
    "def func(x, a, b):\n",
    "    return a * np.log(x) + b"
   ]
  },
  {
   "cell_type": "code",
   "execution_count": 45,
   "metadata": {},
   "outputs": [],
   "source": [
    "# 'train' the model\n",
    "xdata = np.array(df.index)            #use index to compute => but on plot use date\n",
    "ydata = np.array(df['prix_log'])\n",
    "popt, pcov = curve_fit(func, xdata, ydata)\n"
   ]
  },
  {
   "cell_type": "code",
   "execution_count": 46,
   "metadata": {},
   "outputs": [],
   "source": [
    "df['interpolate'] = np.exp(func(xdata, *popt))\n",
    "df['interpolate_log'] = func(xdata, *popt)\n",
    "df.to_csv('interpolation.csv', index=False)"
   ]
  },
  {
   "attachments": {},
   "cell_type": "markdown",
   "metadata": {},
   "source": [
    "### Create a prediction of the price for the following years"
   ]
  },
  {
   "cell_type": "code",
   "execution_count": 47,
   "metadata": {},
   "outputs": [],
   "source": [
    "# Predict the futur Prices with the 'rainbow graph'  \n",
    "x_pred = func(np.arange(1618, 11618), *popt)\n",
    "\n",
    "df_predictions = pd.DataFrame({\n",
    "    'date': pd.date_range(start='2023-04-17', periods=10000, freq='3D'),\n",
    "    'Price_rainbow' : np.exp(x_pred)\n",
    "})\n"
   ]
  },
  {
   "attachments": {},
   "cell_type": "markdown",
   "metadata": {},
   "source": [
    "# adjust the prediction\n",
    "prediction follow the rainbow chart for the public adoption (+- 50% per year) until 2028-01-01 than it decreases at 3% per year\n",
    "\n",
    "growth_three_days = ( (1 + 0.03)**(3/365) ) - 1 = 0.00024297857403232648\n"
   ]
  },
  {
   "cell_type": "code",
   "execution_count": 48,
   "metadata": {},
   "outputs": [],
   "source": [
    "growth_3_days = ( (1 + 0.03)**(3/365) ) - 1"
   ]
  },
  {
   "cell_type": "code",
   "execution_count": 49,
   "metadata": {},
   "outputs": [],
   "source": [
    "df_predictions['Price_2028'] = df_predictions['Price_rainbow'].copy()  # on copie la colonne \"Price\" pour l'instant\n",
    "\n",
    "for i in range(1, len(df_predictions)):\n",
    "    if df_predictions.loc[i, 'date'] < pd.to_datetime('2028-01-01'):\n",
    "        df_predictions.loc[i, 'Price_2028'] = df_predictions.loc[i, 'Price_rainbow']\n",
    "    else:\n",
    "        df_predictions.loc[i, 'Price_2028'] = df_predictions.loc[i-1, 'Price_2028'] * (1 + growth_3_days)"
   ]
  },
  {
   "cell_type": "code",
   "execution_count": 50,
   "metadata": {},
   "outputs": [],
   "source": [
    "df_predictions['Price_2030'] = df_predictions['Price_rainbow'].copy()  # on copie la colonne \"Price\" pour l'instant\n",
    "\n",
    "for i in range(1, len(df_predictions)):\n",
    "    if df_predictions.loc[i, 'date'] < pd.to_datetime('2030-01-01'):\n",
    "        df_predictions.loc[i, 'Price_2030'] = df_predictions.loc[i, 'Price_rainbow']\n",
    "    else:\n",
    "        df_predictions.loc[i, 'Price_2030'] = df_predictions.loc[i-1, 'Price_2030'] * (1 + growth_3_days)"
   ]
  },
  {
   "cell_type": "code",
   "execution_count": 51,
   "metadata": {},
   "outputs": [],
   "source": [
    "df_predictions['Price_2032'] = df_predictions['Price_rainbow'].copy()  # on copie la colonne \"Price\" pour l'instant\n",
    "\n",
    "for i in range(1, len(df_predictions)):\n",
    "    if df_predictions.loc[i, 'date'] < pd.to_datetime('2032-01-01'):\n",
    "        df_predictions.loc[i, 'Price_2032'] = df_predictions.loc[i, 'Price_rainbow']\n",
    "    else:\n",
    "        df_predictions.loc[i, 'Price_2032'] = df_predictions.loc[i-1, 'Price_2032'] * (1 + growth_3_days)"
   ]
  },
  {
   "cell_type": "code",
   "execution_count": 52,
   "metadata": {},
   "outputs": [],
   "source": [
    "df_predictions['Price_2034'] = df_predictions['Price_rainbow'].copy()  # on copie la colonne \"Price\" pour l'instant\n",
    "\n",
    "for i in range(1, len(df_predictions)):\n",
    "    if df_predictions.loc[i, 'date'] < pd.to_datetime('2034-01-01'):\n",
    "        df_predictions.loc[i, 'Price_2034'] = df_predictions.loc[i, 'Price_rainbow']\n",
    "    else:\n",
    "        df_predictions.loc[i, 'Price_2034'] = df_predictions.loc[i-1, 'Price_2034'] * (1 + growth_3_days)"
   ]
  },
  {
   "cell_type": "code",
   "execution_count": 53,
   "metadata": {},
   "outputs": [],
   "source": [
    "df_predictions['Price_2036'] = df_predictions['Price_rainbow'].copy()  # on copie la colonne \"Price\" pour l'instant\n",
    "\n",
    "for i in range(1, len(df_predictions)):\n",
    "    if df_predictions.loc[i, 'date'] < pd.to_datetime('2036-01-01'):\n",
    "        df_predictions.loc[i, 'Price_2036'] = df_predictions.loc[i, 'Price_rainbow']\n",
    "    else:\n",
    "        df_predictions.loc[i, 'Price_2036'] = df_predictions.loc[i-1, 'Price_2036'] * (1 + growth_3_days)"
   ]
  },
  {
   "cell_type": "code",
   "execution_count": 54,
   "metadata": {},
   "outputs": [],
   "source": [
    "# Définition d'une fonction pour calculer la récompense du bloc en fonction de la date\n",
    "def get_block_reward(date : datetime) -> float:\n",
    "    \"\"\"\n",
    "    this function return the block reward from mining a block in function of te date\n",
    "    \"\"\"\n",
    "    if date < pd.Timestamp('2024-05-01'):\n",
    "        return 6.25\n",
    "    elif date < pd.Timestamp('2028-04-01'):\n",
    "        return 3.125\n",
    "    elif date < pd.Timestamp('2032-03-01'):\n",
    "        return 1.5625\n",
    "    elif date < pd.Timestamp('2036-02-01'):\n",
    "        return 0.78125\n",
    "    elif date < pd.Timestamp('2040-01-01'):\n",
    "        return 0.390625\n",
    "    elif date < pd.Timestamp('2043-12-01'):\n",
    "        return 0.1953125\n",
    "    elif date < pd.Timestamp('2047-11-01'):\n",
    "        return 0.09765625\n",
    "    elif date < pd.Timestamp('2051-10-01'):\n",
    "        return 0.048828125\n",
    "    elif date < pd.Timestamp('2055-09-01'):\n",
    "        return 0.0244140625\n",
    "    elif date < pd.Timestamp('2059-08-01'):\n",
    "        return 0.01220703125\n",
    "    elif date < pd.Timestamp('2063-07-01'):\n",
    "        return 0.006103515625\n",
    "    elif date < pd.Timestamp('2067-06-01'):\n",
    "        return 0.0030517578125\n",
    "    elif date < pd.Timestamp('2071-05-01'):\n",
    "        return 0.00152587890625\n",
    "    elif date < pd.Timestamp('2075-04-01'):\n",
    "        return 0.000762939453125\n",
    "    elif date < pd.Timestamp('2079-03-01'):\n",
    "        return 0.0003814697265625\n",
    "    elif date < pd.Timestamp('2083-02-01'):\n",
    "        return 0.00019073486328125\n",
    "    elif date < pd.Timestamp('2087-01-01'):\n",
    "        return 0.000095367431640625\n",
    "    elif date < pd.Timestamp('2090-12-01'):\n",
    "        return 0.0000476837158203125\n",
    "    elif date < pd.Timestamp('2094-11-01'):\n",
    "        return 0.00002384185791015625\n",
    "    elif date < pd.Timestamp('2098-10-01'):\n",
    "        return 0.000011920928955078125\n",
    "    elif date < pd.Timestamp('2102-09-01'):\n",
    "        return 0.0000059604644775390625\n",
    "    elif date < pd.Timestamp('2106-08-01'):\n",
    "        return 0.00000298023223876953125\n",
    "    elif date < pd.Timestamp('2110-07-01'):\n",
    "        return 0.000001490116119384765625\n",
    "    elif date < pd.Timestamp('2114-06-01'):\n",
    "        return 0.0000007450580596923828125\n",
    "    elif date < pd.Timestamp('2118-05-01'):\n",
    "        return 0.00000037252902984619140625\n",
    "    elif date < pd.Timestamp('2122-04-01'):\n",
    "        return 0.000000186264514923095703125\n",
    "    \n"
   ]
  },
  {
   "cell_type": "code",
   "execution_count": 55,
   "metadata": {},
   "outputs": [],
   "source": [
    "df_predictions['block_rewards'] = df_predictions['date'].apply(get_block_reward)"
   ]
  },
  {
   "cell_type": "code",
   "execution_count": 56,
   "metadata": {},
   "outputs": [
    {
     "data": {
      "text/html": [
       "<div>\n",
       "<style scoped>\n",
       "    .dataframe tbody tr th:only-of-type {\n",
       "        vertical-align: middle;\n",
       "    }\n",
       "\n",
       "    .dataframe tbody tr th {\n",
       "        vertical-align: top;\n",
       "    }\n",
       "\n",
       "    .dataframe thead th {\n",
       "        text-align: right;\n",
       "    }\n",
       "</style>\n",
       "<table border=\"1\" class=\"dataframe\">\n",
       "  <thead>\n",
       "    <tr style=\"text-align: right;\">\n",
       "      <th></th>\n",
       "      <th>date</th>\n",
       "      <th>Price_rainbow</th>\n",
       "      <th>Price_2028</th>\n",
       "      <th>Price_2030</th>\n",
       "      <th>Price_2032</th>\n",
       "      <th>Price_2034</th>\n",
       "      <th>Price_2036</th>\n",
       "      <th>block_rewards</th>\n",
       "    </tr>\n",
       "  </thead>\n",
       "  <tbody>\n",
       "    <tr>\n",
       "      <th>0</th>\n",
       "      <td>2023-04-17</td>\n",
       "      <td>5.561736e+04</td>\n",
       "      <td>5.561736e+04</td>\n",
       "      <td>5.561736e+04</td>\n",
       "      <td>5.561736e+04</td>\n",
       "      <td>5.561736e+04</td>\n",
       "      <td>5.561736e+04</td>\n",
       "      <td>6.250000</td>\n",
       "    </tr>\n",
       "    <tr>\n",
       "      <th>1</th>\n",
       "      <td>2023-04-20</td>\n",
       "      <td>5.581963e+04</td>\n",
       "      <td>5.581963e+04</td>\n",
       "      <td>5.581963e+04</td>\n",
       "      <td>5.581963e+04</td>\n",
       "      <td>5.581963e+04</td>\n",
       "      <td>5.581963e+04</td>\n",
       "      <td>6.250000</td>\n",
       "    </tr>\n",
       "    <tr>\n",
       "      <th>2</th>\n",
       "      <td>2023-04-23</td>\n",
       "      <td>5.602252e+04</td>\n",
       "      <td>5.602252e+04</td>\n",
       "      <td>5.602252e+04</td>\n",
       "      <td>5.602252e+04</td>\n",
       "      <td>5.602252e+04</td>\n",
       "      <td>5.602252e+04</td>\n",
       "      <td>6.250000</td>\n",
       "    </tr>\n",
       "    <tr>\n",
       "      <th>3</th>\n",
       "      <td>2023-04-26</td>\n",
       "      <td>5.622602e+04</td>\n",
       "      <td>5.622602e+04</td>\n",
       "      <td>5.622602e+04</td>\n",
       "      <td>5.622602e+04</td>\n",
       "      <td>5.622602e+04</td>\n",
       "      <td>5.622602e+04</td>\n",
       "      <td>6.250000</td>\n",
       "    </tr>\n",
       "    <tr>\n",
       "      <th>4</th>\n",
       "      <td>2023-04-29</td>\n",
       "      <td>5.643013e+04</td>\n",
       "      <td>5.643013e+04</td>\n",
       "      <td>5.643013e+04</td>\n",
       "      <td>5.643013e+04</td>\n",
       "      <td>5.643013e+04</td>\n",
       "      <td>5.643013e+04</td>\n",
       "      <td>6.250000</td>\n",
       "    </tr>\n",
       "    <tr>\n",
       "      <th>...</th>\n",
       "      <td>...</td>\n",
       "      <td>...</td>\n",
       "      <td>...</td>\n",
       "      <td>...</td>\n",
       "      <td>...</td>\n",
       "      <td>...</td>\n",
       "      <td>...</td>\n",
       "      <td>...</td>\n",
       "    </tr>\n",
       "    <tr>\n",
       "      <th>9995</th>\n",
       "      <td>2105-05-22</td>\n",
       "      <td>5.951473e+09</td>\n",
       "      <td>3.258058e+06</td>\n",
       "      <td>5.697859e+06</td>\n",
       "      <td>9.413485e+06</td>\n",
       "      <td>1.478254e+07</td>\n",
       "      <td>2.232168e+07</td>\n",
       "      <td>0.000003</td>\n",
       "    </tr>\n",
       "    <tr>\n",
       "      <th>9996</th>\n",
       "      <td>2105-05-25</td>\n",
       "      <td>5.954485e+09</td>\n",
       "      <td>3.258849e+06</td>\n",
       "      <td>5.699243e+06</td>\n",
       "      <td>9.415772e+06</td>\n",
       "      <td>1.478613e+07</td>\n",
       "      <td>2.232710e+07</td>\n",
       "      <td>0.000003</td>\n",
       "    </tr>\n",
       "    <tr>\n",
       "      <th>9997</th>\n",
       "      <td>2105-05-28</td>\n",
       "      <td>5.957498e+09</td>\n",
       "      <td>3.259641e+06</td>\n",
       "      <td>5.700628e+06</td>\n",
       "      <td>9.418060e+06</td>\n",
       "      <td>1.478972e+07</td>\n",
       "      <td>2.233253e+07</td>\n",
       "      <td>0.000003</td>\n",
       "    </tr>\n",
       "    <tr>\n",
       "      <th>9998</th>\n",
       "      <td>2105-05-31</td>\n",
       "      <td>5.960512e+09</td>\n",
       "      <td>3.260433e+06</td>\n",
       "      <td>5.702013e+06</td>\n",
       "      <td>9.420348e+06</td>\n",
       "      <td>1.479332e+07</td>\n",
       "      <td>2.233796e+07</td>\n",
       "      <td>0.000003</td>\n",
       "    </tr>\n",
       "    <tr>\n",
       "      <th>9999</th>\n",
       "      <td>2105-06-03</td>\n",
       "      <td>5.963528e+09</td>\n",
       "      <td>3.261225e+06</td>\n",
       "      <td>5.703399e+06</td>\n",
       "      <td>9.422637e+06</td>\n",
       "      <td>1.479691e+07</td>\n",
       "      <td>2.234338e+07</td>\n",
       "      <td>0.000003</td>\n",
       "    </tr>\n",
       "  </tbody>\n",
       "</table>\n",
       "<p>10000 rows × 8 columns</p>\n",
       "</div>"
      ],
      "text/plain": [
       "           date  Price_rainbow    Price_2028    Price_2030    Price_2032  \\\n",
       "0    2023-04-17   5.561736e+04  5.561736e+04  5.561736e+04  5.561736e+04   \n",
       "1    2023-04-20   5.581963e+04  5.581963e+04  5.581963e+04  5.581963e+04   \n",
       "2    2023-04-23   5.602252e+04  5.602252e+04  5.602252e+04  5.602252e+04   \n",
       "3    2023-04-26   5.622602e+04  5.622602e+04  5.622602e+04  5.622602e+04   \n",
       "4    2023-04-29   5.643013e+04  5.643013e+04  5.643013e+04  5.643013e+04   \n",
       "...         ...            ...           ...           ...           ...   \n",
       "9995 2105-05-22   5.951473e+09  3.258058e+06  5.697859e+06  9.413485e+06   \n",
       "9996 2105-05-25   5.954485e+09  3.258849e+06  5.699243e+06  9.415772e+06   \n",
       "9997 2105-05-28   5.957498e+09  3.259641e+06  5.700628e+06  9.418060e+06   \n",
       "9998 2105-05-31   5.960512e+09  3.260433e+06  5.702013e+06  9.420348e+06   \n",
       "9999 2105-06-03   5.963528e+09  3.261225e+06  5.703399e+06  9.422637e+06   \n",
       "\n",
       "        Price_2034    Price_2036  block_rewards  \n",
       "0     5.561736e+04  5.561736e+04       6.250000  \n",
       "1     5.581963e+04  5.581963e+04       6.250000  \n",
       "2     5.602252e+04  5.602252e+04       6.250000  \n",
       "3     5.622602e+04  5.622602e+04       6.250000  \n",
       "4     5.643013e+04  5.643013e+04       6.250000  \n",
       "...            ...           ...            ...  \n",
       "9995  1.478254e+07  2.232168e+07       0.000003  \n",
       "9996  1.478613e+07  2.232710e+07       0.000003  \n",
       "9997  1.478972e+07  2.233253e+07       0.000003  \n",
       "9998  1.479332e+07  2.233796e+07       0.000003  \n",
       "9999  1.479691e+07  2.234338e+07       0.000003  \n",
       "\n",
       "[10000 rows x 8 columns]"
      ]
     },
     "execution_count": 56,
     "metadata": {},
     "output_type": "execute_result"
    }
   ],
   "source": [
    "df_predictions.to_csv('predictions.csv', index = 'False')\n",
    "df_predictions"
   ]
  }
 ],
 "metadata": {
  "kernelspec": {
   "display_name": "base",
   "language": "python",
   "name": "python3"
  },
  "language_info": {
   "codemirror_mode": {
    "name": "ipython",
    "version": 3
   },
   "file_extension": ".py",
   "mimetype": "text/x-python",
   "name": "python",
   "nbconvert_exporter": "python",
   "pygments_lexer": "ipython3",
   "version": "3.8.15"
  },
  "orig_nbformat": 4
 },
 "nbformat": 4,
 "nbformat_minor": 2
}
