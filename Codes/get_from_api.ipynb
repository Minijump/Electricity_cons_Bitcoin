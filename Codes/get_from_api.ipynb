{
 "cells": [
  {
   "attachments": {},
   "cell_type": "markdown",
   "metadata": {},
   "source": [
    "# Blockchain.com\n",
    "\n",
    "for bitcoin, get hashrate, transaction fees, nb transactions and average transactions per block"
   ]
  },
  {
   "cell_type": "code",
   "execution_count": 2,
   "metadata": {},
   "outputs": [],
   "source": [
    "import pandas as pd\n",
    "import requests\n",
    "from datetime import datetime"
   ]
  },
  {
   "cell_type": "code",
   "execution_count": 3,
   "metadata": {},
   "outputs": [],
   "source": [
    "\n",
    "def extract_data(response: requests, col_name1: str, col_name2: str) -> pd.DataFrame:\n",
    "    \"\"\"\n",
    "    extract the data contained in response and return it into a dataframe with 2 columns (col_name1 and col_name2)\n",
    "    \"\"\"\n",
    "    data = response.json()\n",
    "    list_date = []\n",
    "    list2 = []\n",
    "    for point in data['values']:\n",
    "        timestamp = point['x']\n",
    "        value = point['y']\n",
    "        date = pd.to_datetime(timestamp, unit='s').strftime('%Y-%m-%d')\n",
    "        list_date.append(date)\n",
    "        list2.append(value)\n",
    "\n",
    "    # Création du DataFrame pandas\n",
    "    df = pd.DataFrame({col_name1: list_date, col_name2: list2})\n",
    "    return df"
   ]
  },
  {
   "cell_type": "code",
   "execution_count": 4,
   "metadata": {},
   "outputs": [],
   "source": [
    "def add_block_reward(date: datetime) -> float:\n",
    "    \"\"\" \n",
    "    return the block reward at the date 'date'\n",
    "    \"\"\"\n",
    "    if date < datetime(2012, 11, 28):\n",
    "        return 50\n",
    "    elif date < datetime(2016, 7, 9):\n",
    "        return 25\n",
    "    elif date < datetime(2020, 5, 11):\n",
    "        return 12.5\n",
    "    else:\n",
    "        return 6.25\n",
    "\n"
   ]
  },
  {
   "cell_type": "code",
   "execution_count": 5,
   "metadata": {},
   "outputs": [],
   "source": [
    "start_date = '2010-01-01'\n",
    "end_date = '2023-04-01'\n"
   ]
  },
  {
   "cell_type": "code",
   "execution_count": 6,
   "metadata": {},
   "outputs": [],
   "source": [
    "#get the response for the hashrate----------------------------------------------------------------------------------------------------\n",
    "#(TH/s)\n",
    "response = requests.get(f'https://api.blockchain.info/charts/hash-rate?timespan=20year&start={start_date}&end={end_date}&format=json')\n",
    "df_hashrate = extract_data(response, 'Date', 'Hashrate')"
   ]
  },
  {
   "cell_type": "code",
   "execution_count": 7,
   "metadata": {},
   "outputs": [],
   "source": [
    "#get the response for the trans fees----------------------------------------------------------------------------------------------------\n",
    "#(1 satoshi = 0,00000001 BTC)\n",
    "response = requests.get(f'https://api.blockchain.info/charts/transaction-fees?timespan=20year&start={start_date}&end={end_date}&format=json')\n",
    "df_fees = extract_data(response, 'Date', 'Fees(sat)')"
   ]
  },
  {
   "cell_type": "code",
   "execution_count": 8,
   "metadata": {},
   "outputs": [],
   "source": [
    "#get the number of transactions----------------------------------------------------------------------------\n",
    "response = requests.get(f'https://api.blockchain.info/charts/n-transactions?timespan=20year&start={start_date}&end={end_date}&format=json')\n",
    "df_nb_trans = extract_data(response, 'Date', 'Nb_trans')\n"
   ]
  },
  {
   "cell_type": "code",
   "execution_count": 9,
   "metadata": {},
   "outputs": [],
   "source": [
    "#get the number of transactions per bloc----------------------------------------------------------------------------\n",
    "response = requests.get(f'https://api.blockchain.info/charts/n-transactions-per-block?timespan=20year&start={start_date}&end={end_date}&format=json')\n",
    "df_nb_trans_block = extract_data(response, 'Date', 'Nb_trans_block')"
   ]
  },
  {
   "cell_type": "code",
   "execution_count": 10,
   "metadata": {},
   "outputs": [],
   "source": [
    "response = requests.get(f'https://api.blockchain.info/charts/market-price?timespan=20year&start={start_date}&end={end_date}&format=json')\n",
    "df_Price = extract_data(response, 'Date', 'Price')"
   ]
  },
  {
   "cell_type": "code",
   "execution_count": 11,
   "metadata": {},
   "outputs": [
    {
     "name": "stdout",
     "output_type": "stream",
     "text": [
      "            Date      Hashrate  Fees(sat)  Nb_trans  Nb_trans_block     Price\n",
      "0     2010-01-01  6.997468e-06   0.000000     133.0        1.015267      0.00\n",
      "1     2010-01-04  1.117243e-05   0.000000     183.0        1.011050      0.00\n",
      "2     2010-01-07  9.349559e-06   0.000000     154.0        1.000000      0.00\n",
      "3     2010-01-10  1.123123e-05   0.000000     190.0        1.000000      0.00\n",
      "4     2010-01-13  1.025025e-05   0.000000     166.0        1.012195      0.00\n",
      "...          ...           ...        ...       ...             ...       ...\n",
      "1615  2023-04-08  3.499355e+08  21.895545  318505.0     2166.700680  27925.55\n",
      "1616  2023-04-11  3.665991e+08  31.058914  385002.0     2500.012987  29656.24\n",
      "1617  2023-04-14  3.332719e+08  27.739714  315959.0     2256.850000  30407.60\n",
      "1618  2023-04-17  3.689796e+08  20.837154  316193.0     2039.954839  30315.39\n",
      "1619  2023-04-20  3.193139e+08  21.239963  296683.0     2230.699248  28829.57\n",
      "\n",
      "[1620 rows x 6 columns]\n"
     ]
    }
   ],
   "source": [
    "#merge all those dataframes\n",
    "merged_df = pd.merge(df_hashrate, df_fees, on='Date', how='outer')\n",
    "merged_df = pd.merge(merged_df, df_nb_trans, on='Date', how='outer')\n",
    "merged_df = pd.merge(merged_df, df_nb_trans_block, on='Date', how='outer')\n",
    "merged_df = pd.merge(merged_df, df_Price, on='Date', how='outer')\n",
    "#reward pour un bloc est block reward + Nb_trans_block * Fees\n",
    "#pour 1 jour => 1 bloc toute les 10 minutes\n",
    "\n",
    "print(merged_df)"
   ]
  },
  {
   "cell_type": "code",
   "execution_count": 12,
   "metadata": {},
   "outputs": [],
   "source": [
    "#add the fees for a block (Fees * Nb_trans_block) in bitcoin (*10^(-8))\n",
    "computed_df = merged_df.copy()\n",
    "computed_df['Fee_per_block'] = computed_df['Fees(sat)'] * computed_df['Nb_trans_block'] * 10**(-8)\n",
    "\n",
    "# add the block reward\n",
    "computed_df['Date'] = pd.to_datetime(computed_df['Date'])\n",
    "computed_df['Block_reward'] = computed_df.apply(lambda row: add_block_reward(row['Date']), axis=1)\n",
    "\n",
    "#estimate energy consumtion (for 1 year) at each point\n",
    "#electricity price:0.05$/kwh\n",
    "#1bloc/10mins\n",
    "computed_df['ELectricity(TWh)'] = (6*24*365) * (computed_df['Block_reward'] + computed_df['Fee_per_block']) * computed_df['Price'] / (0.05)   * 10**(-9)"
   ]
  },
  {
   "attachments": {},
   "cell_type": "markdown",
   "metadata": {},
   "source": [
    "Halving history\n",
    "\n",
    "Date : 28 novembre 2012\n",
    "Récompense de bloc : 50 BTC -> 25 BTC\n",
    "\n",
    "Date : 9 juillet 2016\n",
    "Récompense de bloc : 25 BTC -> 12.5 BTC\n",
    "\n",
    "Date : 11 mai 2020\n",
    "Récompense de bloc : 12.5 BTC -> 6.25 BTC\n",
    "\n",
    "(le block reward est initialement de 50 BTC, et que chaque fois que 210 000 blocs sont minés, le block reward est divisé par deux.)"
   ]
  },
  {
   "attachments": {},
   "cell_type": "markdown",
   "metadata": {},
   "source": [
    "# Cambridge and digiconomist\n",
    "\n",
    "add the values from Cambridge and digiconomist"
   ]
  },
  {
   "attachments": {},
   "cell_type": "markdown",
   "metadata": {},
   "source": [
    "### Cambridge"
   ]
  },
  {
   "cell_type": "code",
   "execution_count": 13,
   "metadata": {},
   "outputs": [],
   "source": [
    "df_cam = pd.read_csv('Cambridge_data.csv')\n",
    "\n",
    "#delete unwanted columns\n",
    "df_cam = df_cam.drop(columns=['Average electricity cost assumption: 0.05 USD/kWh', 'Unnamed: 2', 'Unnamed: 3', 'Unnamed: 4' ])\n",
    "\n",
    "#rename the remaining columns\n",
    "df_cam = df_cam.rename(columns={'Unnamed: 1':'Date', 'Unnamed: 5': 'Cambridge_MAX(TWh)', 'Unnamed: 6': 'Cambridge_MIN(TWh)', 'Unnamed: 7': 'Cambridge_GUESS(TWh)'})\n",
    "\n",
    "#delete the first line, = name of the columns, could have been done in the read csv\n",
    "df_cam = df_cam[df_cam['Date'] != 'Date and Time']\n",
    "\n",
    "#convert dates\n",
    "df_cam['Date'] = pd.to_datetime(df_cam['Date'])"
   ]
  },
  {
   "attachments": {},
   "cell_type": "markdown",
   "metadata": {},
   "source": [
    "Cambridge have data for everyday since 2010-07-18, left join on our dataframe to have on one day out of three\n",
    "\n",
    "!!! Cambridge will have Nans between 2010-01-01 and 2010-07-18. Also Nans at the end if the new csv isn't dowloaded from their pages everytime (no API)"
   ]
  },
  {
   "cell_type": "code",
   "execution_count": 14,
   "metadata": {},
   "outputs": [],
   "source": [
    "Cambridge_df = pd.merge(computed_df, df_cam, on='Date', how='left')"
   ]
  },
  {
   "attachments": {},
   "cell_type": "markdown",
   "metadata": {},
   "source": [
    "### Digiconomist\n",
    "\n",
    "only since 2017"
   ]
  },
  {
   "cell_type": "code",
   "execution_count": 15,
   "metadata": {},
   "outputs": [
    {
     "data": {
      "text/html": [
       "<div>\n",
       "<style scoped>\n",
       "    .dataframe tbody tr th:only-of-type {\n",
       "        vertical-align: middle;\n",
       "    }\n",
       "\n",
       "    .dataframe tbody tr th {\n",
       "        vertical-align: top;\n",
       "    }\n",
       "\n",
       "    .dataframe thead th {\n",
       "        text-align: right;\n",
       "    }\n",
       "</style>\n",
       "<table border=\"1\" class=\"dataframe\">\n",
       "  <thead>\n",
       "    <tr style=\"text-align: right;\">\n",
       "      <th></th>\n",
       "      <th>Date</th>\n",
       "      <th>Dig_Guess(TWh)</th>\n",
       "      <th>Dig_Min(TWh)</th>\n",
       "    </tr>\n",
       "  </thead>\n",
       "  <tbody>\n",
       "    <tr>\n",
       "      <th>2</th>\n",
       "      <td>2017-02-10</td>\n",
       "      <td>9,5856594507</td>\n",
       "      <td>3,3310264288</td>\n",
       "    </tr>\n",
       "    <tr>\n",
       "      <th>3</th>\n",
       "      <td>2017-02-11</td>\n",
       "      <td>9,5473353682</td>\n",
       "      <td>3,3162273608</td>\n",
       "    </tr>\n",
       "    <tr>\n",
       "      <th>4</th>\n",
       "      <td>2017-02-12</td>\n",
       "      <td>9,5787742594</td>\n",
       "      <td>3,1989691439</td>\n",
       "    </tr>\n",
       "    <tr>\n",
       "      <th>5</th>\n",
       "      <td>2017-02-13</td>\n",
       "      <td>9,4765061259</td>\n",
       "      <td>3,0451782162</td>\n",
       "    </tr>\n",
       "    <tr>\n",
       "      <th>6</th>\n",
       "      <td>2017-02-14</td>\n",
       "      <td>9,5448073164</td>\n",
       "      <td>3,1500624504</td>\n",
       "    </tr>\n",
       "    <tr>\n",
       "      <th>...</th>\n",
       "      <td>...</td>\n",
       "      <td>...</td>\n",
       "      <td>...</td>\n",
       "    </tr>\n",
       "    <tr>\n",
       "      <th>2251</th>\n",
       "      <td>2023-04-09</td>\n",
       "      <td>97,5718801163</td>\n",
       "      <td>97,5718801163</td>\n",
       "    </tr>\n",
       "    <tr>\n",
       "      <th>2252</th>\n",
       "      <td>2023-04-10</td>\n",
       "      <td>98,0690658421</td>\n",
       "      <td>98,0690658421</td>\n",
       "    </tr>\n",
       "    <tr>\n",
       "      <th>2253</th>\n",
       "      <td>2023-04-11</td>\n",
       "      <td>98,6682425809</td>\n",
       "      <td>98,6682425809</td>\n",
       "    </tr>\n",
       "    <tr>\n",
       "      <th>2254</th>\n",
       "      <td>2023-04-12</td>\n",
       "      <td>98,8758004848</td>\n",
       "      <td>98,8758004848</td>\n",
       "    </tr>\n",
       "    <tr>\n",
       "      <th>2255</th>\n",
       "      <td>2023-04-13</td>\n",
       "      <td>98,7370812572</td>\n",
       "      <td>98,7370812572</td>\n",
       "    </tr>\n",
       "  </tbody>\n",
       "</table>\n",
       "<p>2254 rows × 3 columns</p>\n",
       "</div>"
      ],
      "text/plain": [
       "           Date Dig_Guess(TWh)   Dig_Min(TWh)\n",
       "2    2017-02-10   9,5856594507   3,3310264288\n",
       "3    2017-02-11   9,5473353682   3,3162273608\n",
       "4    2017-02-12   9,5787742594   3,1989691439\n",
       "5    2017-02-13   9,4765061259   3,0451782162\n",
       "6    2017-02-14   9,5448073164   3,1500624504\n",
       "...         ...            ...            ...\n",
       "2251 2023-04-09  97,5718801163  97,5718801163\n",
       "2252 2023-04-10  98,0690658421  98,0690658421\n",
       "2253 2023-04-11  98,6682425809  98,6682425809\n",
       "2254 2023-04-12  98,8758004848  98,8758004848\n",
       "2255 2023-04-13  98,7370812572  98,7370812572\n",
       "\n",
       "[2254 rows x 3 columns]"
      ]
     },
     "execution_count": 15,
     "metadata": {},
     "output_type": "execute_result"
    }
   ],
   "source": [
    "df_dig = pd.read_csv('bitcoin_digiconomist.csv')\n",
    "\n",
    "df_dig = df_dig.rename(columns={'Unnamed: 0': 'Date', 'Unnamed: 1': 'Dig_Guess(TWh)', 'Unnamed: 2': 'Dig_Min(TWh)'})\n",
    "df_dig = df_dig[df_dig['Date'] != 'Bitcoin Energy Consumption']\n",
    "df_dig = df_dig[df_dig['Date'] != 'DateTime']\n",
    "df_dig['Date'] = pd.to_datetime(df_dig['Date'])\n",
    "df_dig"
   ]
  },
  {
   "cell_type": "code",
   "execution_count": 16,
   "metadata": {},
   "outputs": [],
   "source": [
    "Complete_df = pd.merge(Cambridge_df, df_dig, on='Date', how='left')"
   ]
  },
  {
   "cell_type": "code",
   "execution_count": 17,
   "metadata": {},
   "outputs": [],
   "source": [
    "Complete_df.to_csv('../btc_values.csv', index=False)"
   ]
  }
 ],
 "metadata": {
  "kernelspec": {
   "display_name": "base",
   "language": "python",
   "name": "python3"
  },
  "language_info": {
   "codemirror_mode": {
    "name": "ipython",
    "version": 3
   },
   "file_extension": ".py",
   "mimetype": "text/x-python",
   "name": "python",
   "nbconvert_exporter": "python",
   "pygments_lexer": "ipython3",
   "version": "3.8.15"
  },
  "orig_nbformat": 4
 },
 "nbformat": 4,
 "nbformat_minor": 2
}
